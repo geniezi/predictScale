{
 "cells": [
  {
   "cell_type": "code",
   "execution_count": 5,
   "metadata": {},
   "outputs": [],
   "source": [
    "import numpy as np\n",
    "import pandas as pd\n",
    "import os\n",
    "\n",
    "pd.set_option('display.max_colwidth', 1000)\n",
    "pd.set_option('display.max_columns', 100)\n",
    "pd.set_option('display.max_rows', 140)\n",
    "df=pd.read_csv('result.csv')\n"
   ]
  },
  {
   "cell_type": "code",
   "execution_count": 6,
   "metadata": {},
   "outputs": [
    {
     "name": "stdout",
     "output_type": "stream",
     "text": [
      "    模型名称       MSE      RMSE       MAE\n",
      "0    rdf  0.004005  0.063283  0.032791\n",
      "1     dt  0.005917  0.076923  0.005917\n",
      "2    gbt  0.043425  0.208386  0.167833\n",
      "3    knn  0.986851  0.993404  0.982249\n",
      "4     lr  1.425222  1.193827  0.933709\n",
      "5  ridge  1.065145  1.032059  0.793468\n",
      "6    SVR  0.452196  0.672455  0.576980\n"
     ]
    }
   ],
   "source": [
    "print(df[['模型名称','MSE','RMSE','MAE']])"
   ]
  }
 ],
 "metadata": {
  "kernelspec": {
   "display_name": "graProj",
   "language": "python",
   "name": "python3"
  },
  "language_info": {
   "codemirror_mode": {
    "name": "ipython",
    "version": 3
   },
   "file_extension": ".py",
   "mimetype": "text/x-python",
   "name": "python",
   "nbconvert_exporter": "python",
   "pygments_lexer": "ipython3",
   "version": "3.9.19"
  }
 },
 "nbformat": 4,
 "nbformat_minor": 2
}
