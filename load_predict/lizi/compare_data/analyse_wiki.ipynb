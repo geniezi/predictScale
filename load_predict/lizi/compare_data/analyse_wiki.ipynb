{
 "cells": [
  {
   "cell_type": "code",
   "execution_count": 25,
   "metadata": {},
   "outputs": [],
   "source": [
    "import numpy as np\n",
    "import pandas as pd\n",
    "import os\n",
    "\n",
    "pd.set_option('display.max_colwidth', 1000)\n",
    "pd.set_option('display.max_columns', 100)\n",
    "pd.set_option('display.max_rows', 140)\n",
    "df=pd.read_csv('results_wiki_att.csv')\n"
   ]
  },
  {
   "cell_type": "code",
   "execution_count": 18,
   "metadata": {},
   "outputs": [],
   "source": [
    "# 判断是否有model,epochs ,batchsize ,units1 ,units2 ,units3每列都相同的两行\n",
    "\n",
    "# print(df.columns)\n",
    "\n",
    "sorted_df = df.sort_values(by=['model', 'epochs', 'batchsize', 'units1', 'units2', 'units3'])\n",
    "sorted_df.to_csv('sorted_results_wiki_att.csv', index=False)"
   ]
  },
  {
   "cell_type": "code",
   "execution_count": 6,
   "metadata": {},
   "outputs": [
    {
     "name": "stdout",
     "output_type": "stream",
     "text": [
      "                           model  epochs  batchsize  units1  units2  units3  \\\n",
      "3527  double_lstm_with_attention    3000        512       8       4      16   \n",
      "1113  double_lstm_with_attention    1000        512      64      16      32   \n",
      "1652  double_lstm_with_attention    1500        512       8       4      16   \n",
      "2397  double_lstm_with_attention    2000       1024       4      64      16   \n",
      "2377  double_lstm_with_attention    2000       1024       4       4      16   \n",
      "1795  double_lstm_with_attention    1500       1024       8      64       4   \n",
      "2321  double_lstm_with_attention    2000        512      16      64       8   \n",
      "1133  double_lstm_with_attention    1000       1024       4       8      32   \n",
      "3705  double_lstm_with_attention    3000       1024      32       8       4   \n",
      "2409  double_lstm_with_attention    2000       1024       8       8      64   \n",
      "\n",
      "           MSE      RMSE       MAE       AR2  \n",
      "3527  0.000039  0.006208  0.004582  0.994364  \n",
      "1113  0.000039  0.006218  0.004591  0.994346  \n",
      "1652  0.000039  0.006245  0.004564  0.994297  \n",
      "2397  0.000039  0.006249  0.004583  0.994289  \n",
      "2377  0.000039  0.006257  0.004566  0.994275  \n",
      "1795  0.000039  0.006260  0.004573  0.994269  \n",
      "2321  0.000039  0.006262  0.004635  0.994265  \n",
      "1133  0.000039  0.006266  0.004561  0.994259  \n",
      "3705  0.000039  0.006269  0.004593  0.994252  \n",
      "2409  0.000039  0.006270  0.004713  0.994250  \n"
     ]
    }
   ],
   "source": [
    "sorted_df= pd.read_csv('sorted_results_wiki_att.csv')\n",
    "sorted_df.sort_values(by=['RMSE'],ascending=True, inplace=True)\n",
    "print(sorted_df.head(10))\n",
    "\n"
   ]
  },
  {
   "cell_type": "code",
   "execution_count": 11,
   "metadata": {},
   "outputs": [
    {
     "name": "stdout",
     "output_type": "stream",
     "text": [
      "      epochs       MSE      RMSE       MAE\n",
      "488      500  0.000184  0.013549  0.010918\n",
      "1113    1000  0.000039  0.006218  0.004591\n",
      "1738    1500  0.000064  0.008028  0.006521\n",
      "2363    2000  0.000042  0.006468  0.004786\n",
      "2988    2500  0.000041  0.006408  0.004707\n",
      "3613    3000  0.000042  0.006477  0.004824\n",
      "4238    3500  0.000047  0.006840  0.005170\n",
      "---------------------------------\n",
      "      epochs       MSE      RMSE       MAE\n",
      "522      500  0.000042  0.006493  0.004727\n",
      "1147    1000  0.000040  0.006324  0.004653\n",
      "1772    1500  0.000088  0.009393  0.007531\n",
      "2397    2000  0.000039  0.006249  0.004583\n",
      "3022    2500  0.000045  0.006733  0.004952\n",
      "3647    3000  0.000040  0.006317  0.004602\n",
      "4272    3500  0.000040  0.006340  0.004685\n",
      "---------------------------------\n"
     ]
    }
   ],
   "source": [
    "sorted_df= pd.read_csv('sorted_results_wiki_att.csv')\n",
    "flag=0\n",
    "sorted_df.sort_values(by=['RMSE'],ascending=True, inplace=True)\n",
    "for i in range(0,sorted_df.shape[0]):\n",
    "     if flag==2:\n",
    "         break\n",
    "     \n",
    "     column = sorted_df.iloc[i]\n",
    "     temp=sorted_df[ (sorted_df['batchsize'] == column['batchsize']) & (sorted_df['units1'] == column['units1']) & (sorted_df['units2'] == column['units2']) & (sorted_df['units3'] == column['units3'])]\n",
    "     temp_rmse = temp[temp['RMSE'] == temp['RMSE'].min()]\n",
    "     temp_mae = temp[temp['MAE'] == temp['MAE'].min()]\n",
    "\n",
    "     if temp_rmse.equals(temp_mae):\n",
    "                            print(temp.sort_values(by=['epochs'],ascending=True,inplace=False)[['epochs','MSE','RMSE','MAE']])\n",
    "                            print('---------------------------------')\n",
    "                            flag+=1\n",
    "                            # break\n",
    "\n",
    "    "
   ]
  },
  {
   "cell_type": "code",
   "execution_count": 12,
   "metadata": {},
   "outputs": [
    {
     "name": "stdout",
     "output_type": "stream",
     "text": [
      "      batchsize       MSE      RMSE       MAE\n",
      "3152         64  0.006422  0.080138  0.073193\n",
      "3277        128  0.000878  0.029634  0.027910\n",
      "3402        256  0.000050  0.007047  0.005220\n",
      "3527        512  0.000039  0.006208  0.004582\n",
      "3652       1024  0.000040  0.006316  0.004670\n",
      "---------------------------------\n",
      "      batchsize       MSE      RMSE       MAE\n",
      "738          64  0.010068  0.100340  0.082144\n",
      "863         128  0.007317  0.085540  0.070917\n",
      "988         256  0.006861  0.082830  0.072384\n",
      "1113        512  0.000039  0.006218  0.004591\n",
      "1238       1024  0.000150  0.012234  0.009675\n",
      "---------------------------------\n"
     ]
    }
   ],
   "source": [
    "sorted_df= pd.read_csv('sorted_results_wiki_att.csv')\n",
    "flag=0\n",
    "sorted_df.sort_values(by=['RMSE'],ascending=True, inplace=True)\n",
    "for i in range(0,sorted_df.shape[0]):\n",
    "     if flag==2:\n",
    "         break\n",
    "     \n",
    "     column = sorted_df.iloc[i]\n",
    "     temp=sorted_df[ (sorted_df['epochs'] == column['epochs']) & (sorted_df['units1'] == column['units1']) & (sorted_df['units2'] == column['units2']) & (sorted_df['units3'] == column['units3'])]\n",
    "     temp_rmse = temp[temp['RMSE'] == temp['RMSE'].min()]\n",
    "     temp_mae = temp[temp['MAE'] == temp['MAE'].min()]\n",
    "\n",
    "     if temp_rmse.equals(temp_mae):\n",
    "                            print(temp.sort_values(by=['batchsize'],ascending=True,inplace=False)[['batchsize','MSE','RMSE','MAE']])\n",
    "                            print('---------------------------------')\n",
    "                            flag+=1\n",
    "                            # break\n",
    "\n",
    "    "
   ]
  },
  {
   "cell_type": "code",
   "execution_count": 34,
   "metadata": {},
   "outputs": [
    {
     "name": "stdout",
     "output_type": "stream",
     "text": [
      "            units       MSE      RMSE       MAE\n",
      "375     (4, 4, 4)  0.000040  0.006308  0.004622\n",
      "384    (4, 8, 64)  0.000046  0.006769  0.004957\n",
      "397   (4, 64, 16)  0.000077  0.008755  0.006724\n",
      "404    (8, 4, 64)  0.000041  0.006407  0.004660\n",
      "408    (8, 8, 32)  0.000042  0.006449  0.004678\n",
      "419   (8, 32, 64)  0.000041  0.006387  0.004722\n",
      "428   (16, 4, 32)  0.000048  0.006907  0.005429\n",
      "437  (16, 16, 16)  0.000041  0.006368  0.004741\n",
      "446   (16, 64, 8)  0.000042  0.006457  0.004818\n",
      "455    (32, 8, 4)  0.000049  0.007031  0.005445\n",
      "467  (32, 32, 16)  0.000606  0.024626  0.023167\n",
      "471   (32, 64, 8)  0.000045  0.006723  0.005068\n",
      "476    (64, 4, 8)  0.000047  0.006890  0.005234\n",
      "487  (64, 16, 16)  0.000069  0.008305  0.006366\n",
      "494  (64, 32, 64)  0.000249  0.015788  0.012487\n",
      "---------------------------------\n"
     ]
    }
   ],
   "source": [
    "sorted_df= pd.read_csv('sorted_results_wiki_att.csv')\n",
    "\n",
    "\n",
    "unit_list=[(4, 4, 4),\n",
    "(4, 8, 64),\n",
    "(4, 64, 16),\n",
    "(8, 4, 64),\n",
    "(8, 8, 32),\n",
    "(8, 32, 64),\n",
    "(16, 4, 32),\n",
    "(16, 16, 16),\n",
    "(16, 64, 8),\n",
    "(32, 8, 4),\n",
    "(32, 32, 16),\n",
    "(32, 64, 8),\n",
    "(64, 4, 8),\n",
    "(64, 16, 16),\n",
    "(64, 32, 64),]\n",
    "\n",
    "unit_list_str = ['(' + str(x[0]) + ', ' + str(x[1]) + ', ' + str(x[2]) + ')' for x in unit_list]\n",
    "\n",
    "flag=0\n",
    "sorted_df.sort_values(by=['RMSE'],ascending=True, inplace=True)\n",
    "for i in range(0,sorted_df.shape[0]):\n",
    "     if flag==1:\n",
    "         break\n",
    "     \n",
    "     column = sorted_df.iloc[i]\n",
    "     temp1=sorted_df[ (sorted_df['epochs'] == column['epochs']) & (sorted_df['batchsize'] == column['batchsize'])]\n",
    "     temp=temp1.copy()\n",
    "     temp['units'] = '(' + temp['units1'].astype(str) + ', ' + temp['units2'].astype(str) + ', ' + temp['units3'].astype(str)+')'\n",
    "     temp_rmse = temp[temp['RMSE'] == temp['RMSE'].min()]\n",
    "     temp_mae = temp[temp['MAE'] == temp['MAE'].min()]\n",
    "\n",
    "     if temp_rmse.equals(temp_mae):\n",
    "        temp_rmse_filtered = temp_rmse[temp_rmse['units'].isin(unit_list_str)]\n",
    "        if not temp_rmse_filtered.empty:  # 检查筛选后的DataFrame是否为空\n",
    "                            sort_temp=temp.sort_values(by=['units1','units2','units3'],ascending=True,inplace=False)\n",
    "                            # 将'units1','units2','units3'组合成一个字符串，输出结果\n",
    "                            sort_temp['units'] = '(' + sort_temp['units1'].astype(str) + ', ' + sort_temp['units2'].astype(str) + ', ' + sort_temp['units3'].astype(str)+')'\n",
    "                            # 输出(unit1,unit2,unit3)符合unit_list的行\n",
    "                            # 转换 unit_list 到字符串形式以匹配 units 列\n",
    "                            result = sort_temp[sort_temp['units'].isin(unit_list_str)]\n",
    "\n",
    "                            print(result[['units','MSE','RMSE','MAE']])\n",
    "                            \n",
    "                            print('---------------------------------')\n",
    "                            flag+=1\n",
    "                            # break\n",
    "\n",
    "    "
   ]
  },
  {
   "cell_type": "code",
   "execution_count": null,
   "metadata": {},
   "outputs": [],
   "source": []
  }
 ],
 "metadata": {
  "kernelspec": {
   "display_name": "graProj",
   "language": "python",
   "name": "python3"
  },
  "language_info": {
   "codemirror_mode": {
    "name": "ipython",
    "version": 3
   },
   "file_extension": ".py",
   "mimetype": "text/x-python",
   "name": "python",
   "nbconvert_exporter": "python",
   "pygments_lexer": "ipython3",
   "version": "3.9.19"
  }
 },
 "nbformat": 4,
 "nbformat_minor": 2
}
