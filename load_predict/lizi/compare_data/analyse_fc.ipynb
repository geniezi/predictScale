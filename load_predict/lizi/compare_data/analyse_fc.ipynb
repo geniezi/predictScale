{
 "cells": [
  {
   "cell_type": "code",
   "execution_count": 17,
   "metadata": {},
   "outputs": [],
   "source": [
    "import numpy as np\n",
    "import pandas as pd\n",
    "import os\n",
    "\n",
    "pd.set_option('display.max_colwidth', 1000)\n",
    "pd.set_option('display.max_columns', 100)\n",
    "pd.set_option('display.max_rows', 140)\n",
    "df=pd.read_csv('results_fc_att.csv')\n"
   ]
  },
  {
   "cell_type": "code",
   "execution_count": 18,
   "metadata": {},
   "outputs": [],
   "source": [
    "# 判断是否有model,epochs ,batchsize ,units1 ,units2 ,units3每列都相同的两行\n",
    "\n",
    "# print(df.columns)\n",
    "\n",
    "sorted_df = df.sort_values(by=['model', 'epochs', 'batchsize', 'units1', 'units2', 'units3'])\n",
    "sorted_df.to_csv('sorted_results_fc_att.csv', index=False)"
   ]
  },
  {
   "cell_type": "code",
   "execution_count": 19,
   "metadata": {},
   "outputs": [
    {
     "name": "stdout",
     "output_type": "stream",
     "text": [
      "                           model  epochs  batchsize  units1  units2  units3  \\\n",
      "1871  double_lstm_with_attention    1500       1024      64      64       8   \n",
      "3712  double_lstm_with_attention    3000       1024      32      16      16   \n",
      "3121  double_lstm_with_attention    2500       1024      64      64       8   \n",
      "3571  double_lstm_with_attention    3000        512      16      64       8   \n",
      "2401  double_lstm_with_attention    2000       1024       8       4       8   \n",
      "1757  double_lstm_with_attention    1500       1024       4       8      16   \n",
      "3600  double_lstm_with_attention    3000        512      64       4       4   \n",
      "3079  double_lstm_with_attention    2500       1024      32       4      64   \n",
      "3727  double_lstm_with_attention    3000       1024      64       4      16   \n",
      "2436  double_lstm_with_attention    2000       1024      16      16       8   \n",
      "\n",
      "           MSE      RMSE       MAE       AR2  \n",
      "1871  0.000034  0.005828  0.004283  0.992737  \n",
      "3712  0.000034  0.005835  0.004285  0.992721  \n",
      "3121  0.000034  0.005841  0.004260  0.992704  \n",
      "3571  0.000034  0.005842  0.004308  0.992702  \n",
      "2401  0.000034  0.005846  0.004303  0.992693  \n",
      "1757  0.000034  0.005850  0.004314  0.992684  \n",
      "3600  0.000034  0.005854  0.004293  0.992673  \n",
      "3079  0.000034  0.005855  0.004283  0.992669  \n",
      "3727  0.000034  0.005866  0.004308  0.992642  \n",
      "2436  0.000034  0.005869  0.004305  0.992635  \n",
      "1024 (875, 10)\n",
      "512 (875, 10)\n",
      "256 (875, 10)\n",
      "128 (875, 10)\n",
      "64 (875, 10)\n",
      "64 (875, 10)\n",
      "32 (875, 10)\n",
      "16 (875, 10)\n",
      "8 (875, 10)\n",
      "4 (875, 10)\n"
     ]
    }
   ],
   "source": [
    "sorted_df= pd.read_csv('sorted_results_fc_att.csv')\n",
    "sorted_df.sort_values(by=['RMSE'],ascending=True, inplace=True)\n",
    "print(sorted_df.head(10))\n",
    "\n",
    "for batch in sorted_df['batchsize'].unique():\n",
    "    print(batch, sorted_df[sorted_df['batchsize']==batch].shape)\n",
    "\n",
    "\n",
    "for units in sorted_df['units1'].unique():\n",
    "    print(units, sorted_df[sorted_df['units1']==units].shape)\n"
   ]
  },
  {
   "cell_type": "code",
   "execution_count": 20,
   "metadata": {},
   "outputs": [
    {
     "name": "stdout",
     "output_type": "stream",
     "text": [
      "      epochs       MSE      RMSE       MAE\n",
      "587      500  0.000222  0.014885  0.013843\n",
      "1212    1000  0.000066  0.008108  0.006753\n",
      "1837    1500  0.000268  0.016357  0.015212\n",
      "2462    2000  0.000035  0.005945  0.004372\n",
      "3087    2500  0.000993  0.031516  0.030840\n",
      "3712    3000  0.000034  0.005835  0.004285\n",
      "4337    3500  0.000085  0.009210  0.007722\n",
      "---------------------------------\n",
      "      epochs       MSE      RMSE       MAE\n",
      "446      500  0.000050  0.007085  0.005164\n",
      "1071    1000  0.000039  0.006217  0.004589\n",
      "1696    1500  0.000126  0.011242  0.010128\n",
      "2321    2000  0.000048  0.006952  0.005504\n",
      "2946    2500  0.000035  0.005957  0.004418\n",
      "3571    3000  0.000034  0.005842  0.004308\n",
      "4196    3500  0.000072  0.008498  0.007196\n",
      "---------------------------------\n"
     ]
    }
   ],
   "source": [
    "sorted_df= pd.read_csv('sorted_results_fc_att.csv')\n",
    "flag=0\n",
    "sorted_df.sort_values(by=['RMSE'],ascending=True, inplace=True)\n",
    "for i in range(0,sorted_df.shape[0]):\n",
    "     if flag==2:\n",
    "         break\n",
    "     \n",
    "     column = sorted_df.iloc[i]\n",
    "     temp=sorted_df[ (sorted_df['batchsize'] == column['batchsize']) & (sorted_df['units1'] == column['units1']) & (sorted_df['units2'] == column['units2']) & (sorted_df['units3'] == column['units3'])]\n",
    "     temp_rmse = temp[temp['RMSE'] == temp['RMSE'].min()]\n",
    "     temp_mae = temp[temp['MAE'] == temp['MAE'].min()]\n",
    "\n",
    "     if temp_rmse.equals(temp_mae):\n",
    "                            print(temp.sort_values(by=['epochs'],ascending=True,inplace=False)[['epochs','MSE','RMSE','MAE']])\n",
    "                            print('---------------------------------')\n",
    "                            flag+=1\n",
    "                            # break\n",
    "\n",
    "    "
   ]
  },
  {
   "cell_type": "code",
   "execution_count": 21,
   "metadata": {},
   "outputs": [
    {
     "name": "stdout",
     "output_type": "stream",
     "text": [
      "      batchsize       MSE      RMSE       MAE\n",
      "1371         64  0.025147  0.158579  0.149361\n",
      "1496        128  0.003000  0.054771  0.049844\n",
      "1621        256  0.000585  0.024191  0.019929\n",
      "1746        512  0.000314  0.017706  0.011299\n",
      "1871       1024  0.000034  0.005828  0.004283\n",
      "---------------------------------\n",
      "      batchsize       MSE      RMSE       MAE\n",
      "3212         64  0.004160  0.064497  0.061766\n",
      "3337        128  0.000062  0.007874  0.005581\n",
      "3462        256  0.000448  0.021175  0.015983\n",
      "3587        512  0.000045  0.006740  0.005127\n",
      "3712       1024  0.000034  0.005835  0.004285\n",
      "---------------------------------\n"
     ]
    }
   ],
   "source": [
    "sorted_df= pd.read_csv('sorted_results_fc_att.csv')\n",
    "flag=0\n",
    "sorted_df.sort_values(by=['RMSE'],ascending=True, inplace=True)\n",
    "for i in range(0,sorted_df.shape[0]):\n",
    "     if flag==2:\n",
    "         break\n",
    "     \n",
    "     column = sorted_df.iloc[i]\n",
    "     temp=sorted_df[ (sorted_df['epochs'] == column['epochs']) & (sorted_df['units1'] == column['units1']) & (sorted_df['units2'] == column['units2']) & (sorted_df['units3'] == column['units3'])]\n",
    "     temp_rmse = temp[temp['RMSE'] == temp['RMSE'].min()]\n",
    "     temp_mae = temp[temp['MAE'] == temp['MAE'].min()]\n",
    "\n",
    "     if temp_rmse.equals(temp_mae):\n",
    "                            print(temp.sort_values(by=['batchsize'],ascending=True,inplace=False)[['batchsize','MSE','RMSE','MAE']])\n",
    "                            print('---------------------------------')\n",
    "                            flag+=1\n",
    "                            # break\n",
    "\n",
    "    "
   ]
  },
  {
   "cell_type": "code",
   "execution_count": 22,
   "metadata": {},
   "outputs": [
    {
     "name": "stdout",
     "output_type": "stream",
     "text": [
      "             units       MSE      RMSE       MAE\n",
      "1000     (4, 4, 4)  0.000137  0.011685  0.010520\n",
      "1009    (4, 8, 64)  0.000050  0.007083  0.005460\n",
      "1022   (4, 64, 16)  0.000074  0.008611  0.005940\n",
      "1029    (8, 4, 64)  0.000041  0.006413  0.004791\n",
      "1033    (8, 8, 32)  0.000035  0.005938  0.004338\n",
      "1044   (8, 32, 64)  0.000034  0.005873  0.004315\n",
      "1053   (16, 4, 32)  0.000035  0.005941  0.004394\n",
      "1062  (16, 16, 16)  0.001417  0.037648  0.036928\n",
      "1071   (16, 64, 8)  0.000039  0.006217  0.004589\n",
      "1080    (32, 8, 4)  0.000035  0.005902  0.004346\n",
      "1092  (32, 32, 16)  0.000384  0.019607  0.014064\n",
      "1096   (32, 64, 8)  0.000046  0.006811  0.005246\n",
      "1101    (64, 4, 8)  0.000054  0.007381  0.005517\n",
      "1112  (64, 16, 16)  0.000312  0.017653  0.011237\n",
      "1119  (64, 32, 64)  0.000346  0.018603  0.012993\n",
      "---------------------------------\n"
     ]
    }
   ],
   "source": [
    "sorted_df= pd.read_csv('sorted_results_fc_att.csv')\n",
    "\n",
    "\n",
    "unit_list=[(4, 4, 4),\n",
    "(4, 8, 64),\n",
    "(4, 64, 16),\n",
    "(8, 4, 64),\n",
    "(8, 8, 32),\n",
    "(8, 32, 64),\n",
    "(16, 4, 32),\n",
    "(16, 16, 16),\n",
    "(16, 64, 8),\n",
    "(32, 8, 4),\n",
    "(32, 32, 16),\n",
    "(32, 64, 8),\n",
    "(64, 4, 8),\n",
    "(64, 16, 16),\n",
    "(64, 32, 64),]\n",
    "\n",
    "unit_list_str = ['(' + str(x[0]) + ', ' + str(x[1]) + ', ' + str(x[2]) + ')' for x in unit_list]\n",
    "\n",
    "flag=0\n",
    "sorted_df.sort_values(by=['RMSE'],ascending=True, inplace=True)\n",
    "for i in range(0,sorted_df.shape[0]):\n",
    "     if flag==1:\n",
    "         break\n",
    "     \n",
    "     column = sorted_df.iloc[i]\n",
    "     temp1=sorted_df[ (sorted_df['epochs'] == column['epochs']) & (sorted_df['batchsize'] == column['batchsize'])]\n",
    "     temp=temp1.copy()\n",
    "     temp['units'] = '(' + temp['units1'].astype(str) + ', ' + temp['units2'].astype(str) + ', ' + temp['units3'].astype(str)+')'\n",
    "     temp_rmse = temp[temp['RMSE'] == temp['RMSE'].min()]\n",
    "     temp_mae = temp[temp['MAE'] == temp['MAE'].min()]\n",
    "\n",
    "     if temp_rmse.equals(temp_mae):\n",
    "        temp_rmse_filtered = temp_rmse[temp_rmse['units'].isin(unit_list_str)]\n",
    "        if not temp_rmse_filtered.empty:  # 检查筛选后的DataFrame是否为空\n",
    "                            sort_temp=temp.sort_values(by=['units1','units2','units3'],ascending=True,inplace=False)\n",
    "                            # 将'units1','units2','units3'组合成一个字符串，输出结果\n",
    "                            sort_temp['units'] = '(' + sort_temp['units1'].astype(str) + ', ' + sort_temp['units2'].astype(str) + ', ' + sort_temp['units3'].astype(str)+')'\n",
    "                            # 输出(unit1,unit2,unit3)符合unit_list的行\n",
    "                            # 转换 unit_list 到字符串形式以匹配 units 列\n",
    "                            result = sort_temp[sort_temp['units'].isin(unit_list_str)]\n",
    "\n",
    "                            print(result[['units','MSE','RMSE','MAE']])\n",
    "                            \n",
    "                            print('---------------------------------')\n",
    "                            flag+=1\n",
    "                            # break\n",
    "\n",
    "    "
   ]
  },
  {
   "cell_type": "code",
   "execution_count": null,
   "metadata": {},
   "outputs": [],
   "source": []
  }
 ],
 "metadata": {
  "kernelspec": {
   "display_name": "graProj",
   "language": "python",
   "name": "python3"
  },
  "language_info": {
   "codemirror_mode": {
    "name": "ipython",
    "version": 3
   },
   "file_extension": ".py",
   "mimetype": "text/x-python",
   "name": "python",
   "nbconvert_exporter": "python",
   "pygments_lexer": "ipython3",
   "version": "3.9.19"
  }
 },
 "nbformat": 4,
 "nbformat_minor": 2
}
