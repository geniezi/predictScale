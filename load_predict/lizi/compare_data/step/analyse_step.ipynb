{
 "cells": [
  {
   "cell_type": "code",
   "execution_count": 11,
   "metadata": {},
   "outputs": [],
   "source": [
    "import numpy as np\n",
    "import pandas as pd\n",
    "import os\n",
    "\n",
    "pd.set_option('display.max_colwidth', 1000)\n",
    "pd.set_option('display.max_columns', 100)\n",
    "pd.set_option('display.max_rows', 140)\n",
    "df_fc=pd.read_csv('results_fc_att_step.csv')\n",
    "df_wiki=pd.read_csv('results_wiki_att_step.csv')"
   ]
  },
  {
   "cell_type": "code",
   "execution_count": 8,
   "metadata": {},
   "outputs": [
    {
     "name": "stdout",
     "output_type": "stream",
     "text": [
      "   inputstep  futurestep       MSE      RMSE       MAE\n",
      "0          5           1  0.000045  0.006709  0.005076\n",
      "8          5           2  0.000179  0.013367  0.008652\n",
      "6          5           5  0.000233  0.015278  0.013422\n",
      "    inputstep  futurestep       MSE      RMSE       MAE\n",
      "1          10           1  0.000338  0.018373  0.011596\n",
      "11         10           2  0.000060  0.007760  0.005646\n",
      "7          10           5  0.000090  0.009505  0.006344\n",
      "    inputstep  futurestep       MSE      RMSE       MAE\n",
      "2          15           1  0.005463  0.073912  0.043979\n",
      "13         15           2  0.000157  0.012530  0.011151\n",
      "9          15           5  0.000582  0.024118  0.014481\n",
      "    inputstep  futurestep       MSE      RMSE       MAE\n",
      "3          20           1  0.000714  0.026723  0.016339\n",
      "16         20           2  0.000738  0.027173  0.016543\n",
      "10         20           5  0.000830  0.028802  0.016994\n",
      "    inputstep  futurestep       MSE      RMSE       MAE\n",
      "4          25           1  0.000279  0.016695  0.015563\n",
      "12         25           2  0.004734  0.068806  0.054113\n",
      "15         25           5  0.000851  0.029165  0.015554\n",
      "    inputstep  futurestep       MSE      RMSE       MAE\n",
      "5          30           1  0.002417  0.049165  0.040855\n",
      "17         30           2  0.001093  0.033064  0.017965\n",
      "14         30           5  0.000327  0.018074  0.016364\n"
     ]
    }
   ],
   "source": [
    "for inputstep in df_fc['inputstep'].unique():\n",
    "    temp=df_fc[df_fc['inputstep']==inputstep]\n",
    "    temp=temp.sort_values(by='futurestep',ascending=True)\n",
    "    print(temp[['inputstep','futurestep','MSE','RMSE','MAE']].head(10) )"
   ]
  },
  {
   "cell_type": "code",
   "execution_count": 12,
   "metadata": {},
   "outputs": [
    {
     "name": "stdout",
     "output_type": "stream",
     "text": [
      "   inputstep  futurestep       MSE      RMSE       MAE\n",
      "0          5           1  0.000049  0.006969  0.005329\n",
      "7          5           2  0.000048  0.006896  0.005079\n",
      "6          5           5  0.000060  0.007738  0.006056\n",
      "    inputstep  futurestep       MSE      RMSE       MAE\n",
      "1          15           1  0.000059  0.007696  0.006149\n",
      "11         15           2  0.009041  0.095082  0.082289\n",
      "10         15           5  0.000058  0.007584  0.005879\n",
      "   inputstep  futurestep       MSE      RMSE       MAE\n",
      "2         10           1  0.000136  0.011658  0.009100\n",
      "9         10           2  0.000063  0.007935  0.006319\n",
      "8         10           5  0.000076  0.008709  0.006702\n",
      "    inputstep  futurestep       MSE      RMSE       MAE\n",
      "3          20           1  0.000285  0.016887  0.013682\n",
      "13         20           2  0.006841  0.082710  0.071888\n",
      "12         20           5  0.000057  0.007530  0.005838\n",
      "    inputstep  futurestep       MSE      RMSE       MAE\n",
      "4          30           1  0.000581  0.024101  0.019343\n",
      "16         30           2  0.000290  0.017027  0.014104\n",
      "17         30           5  0.000057  0.007583  0.005900\n",
      "    inputstep  futurestep       MSE      RMSE       MAE\n",
      "5          25           1  0.000067  0.008203  0.006591\n",
      "15         25           2  0.000716  0.026760  0.022480\n",
      "14         25           5  0.000131  0.011425  0.009285\n"
     ]
    }
   ],
   "source": [
    "for inputstep in df_wiki['inputstep'].unique():\n",
    "    temp=df_wiki[df_wiki['inputstep']==inputstep]\n",
    "    temp=temp.sort_values(by='futurestep',ascending=True)\n",
    "    print(temp[['inputstep','futurestep','MSE','RMSE','MAE']].head(10) )"
   ]
  }
 ],
 "metadata": {
  "kernelspec": {
   "display_name": "graProj",
   "language": "python",
   "name": "python3"
  },
  "language_info": {
   "codemirror_mode": {
    "name": "ipython",
    "version": 3
   },
   "file_extension": ".py",
   "mimetype": "text/x-python",
   "name": "python",
   "nbconvert_exporter": "python",
   "pygments_lexer": "ipython3",
   "version": "3.9.19"
  }
 },
 "nbformat": 4,
 "nbformat_minor": 2
}
