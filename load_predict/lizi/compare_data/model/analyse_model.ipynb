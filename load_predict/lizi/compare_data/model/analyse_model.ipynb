{
 "cells": [
  {
   "cell_type": "code",
   "execution_count": 7,
   "metadata": {},
   "outputs": [],
   "source": [
    "import numpy as np\n",
    "import pandas as pd\n",
    "import os\n",
    "\n",
    "pd.set_option('display.max_colwidth', 1000)\n",
    "pd.set_option('display.max_columns', 100)\n",
    "pd.set_option('display.max_rows', 140)\n",
    "df_fc=pd.read_csv('results_fc_model.csv')\n",
    "df_wiki=pd.read_csv('results_wiki_model.csv')"
   ]
  },
  {
   "cell_type": "code",
   "execution_count": 8,
   "metadata": {},
   "outputs": [
    {
     "name": "stdout",
     "output_type": "stream",
     "text": [
      "              model       MSE      RMSE       MAE\n",
      "0  linearregression  0.000037  0.006108  0.004577\n",
      "1             arima  0.006341  0.079629  0.071958\n",
      "2              lstm  0.000047  0.006863  0.005442\n",
      "3       transformer  0.006532  0.080823  0.073741\n",
      "4               sma  0.000041  0.006440  0.004685\n",
      "5               gru  0.000045  0.006678  0.004867\n",
      "6       double_lstm  0.000037  0.006068  0.004473\n"
     ]
    }
   ],
   "source": [
    "print(df_fc[['model','MSE','RMSE','MAE']].head(10) )"
   ]
  },
  {
   "cell_type": "code",
   "execution_count": 9,
   "metadata": {},
   "outputs": [
    {
     "name": "stdout",
     "output_type": "stream",
     "text": [
      "              model       MSE      RMSE       MAE\n",
      "0  linearregression  0.000048  0.006949  0.004962\n",
      "1             arima  0.008829  0.093964  0.077104\n",
      "2              lstm  0.000049  0.006975  0.005365\n",
      "3       transformer  0.006851  0.082769  0.071481\n",
      "4               sma  0.000044  0.006630  0.004841\n",
      "5               gru  0.000057  0.007525  0.005767\n",
      "6       double_lstm  0.000087  0.009350  0.007835\n"
     ]
    }
   ],
   "source": [
    "print(df_wiki[['model','MSE','RMSE','MAE']].head(10) )"
   ]
  }
 ],
 "metadata": {
  "kernelspec": {
   "display_name": "graProj",
   "language": "python",
   "name": "python3"
  },
  "language_info": {
   "codemirror_mode": {
    "name": "ipython",
    "version": 3
   },
   "file_extension": ".py",
   "mimetype": "text/x-python",
   "name": "python",
   "nbconvert_exporter": "python",
   "pygments_lexer": "ipython3",
   "version": "3.9.19"
  }
 },
 "nbformat": 4,
 "nbformat_minor": 2
}
