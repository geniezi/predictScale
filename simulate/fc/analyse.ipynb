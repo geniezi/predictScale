{
 "cells": [
  {
   "cell_type": "code",
   "execution_count": 1,
   "metadata": {},
   "outputs": [],
   "source": [
    "import numpy as np\n",
    "import pandas as pd\n",
    "import os\n",
    "\n",
    "pd.set_option('display.max_colwidth', 1000)\n",
    "pd.set_option('display.max_columns', 100)\n",
    "pd.set_option('display.max_rows', 140)\n",
    "df=pd.read_csv('scale.csv')\n"
   ]
  },
  {
   "cell_type": "code",
   "execution_count": 3,
   "metadata": {},
   "outputs": [
    {
     "name": "stdout",
     "output_type": "stream",
     "text": [
      "                    stragety  slo_requests   slo_time\n",
      "0             over_provision      0.000000   0.000000\n",
      "1             half_provision      1.062824   1.654173\n",
      "2            provision_95ile      2.810713   3.083458\n",
      "3            provision_99ile      0.254647   0.449775\n",
      "4          average_provision     15.668737  17.186407\n",
      "5                   reactive     11.785690   7.866067\n",
      "6                        hpa      0.015790   0.239880\n",
      "7                my_strategy      0.032285   0.339830\n",
      "8  my_strategy_without_burst      0.021042   0.299850\n"
     ]
    }
   ],
   "source": [
    "print(df[['stragety','slo_requests', 'slo_time']])"
   ]
  },
  {
   "cell_type": "code",
   "execution_count": 4,
   "metadata": {},
   "outputs": [
    {
     "name": "stdout",
     "output_type": "stream",
     "text": [
      "                    stragety  scale_time       cost\n",
      "0             over_provision           0  35.023903\n",
      "1             half_provision           0  19.457724\n",
      "2            provision_95ile           0  15.566179\n",
      "3            provision_99ile           0  23.349269\n",
      "4          average_provision           0   7.783090\n",
      "5                   reactive        3147   6.687584\n",
      "6                        hpa          94  10.259209\n",
      "7                my_strategy         681   7.330146\n",
      "8  my_strategy_without_burst         682   7.326256\n"
     ]
    }
   ],
   "source": [
    "print(df[['stragety','scale_time', 'cost']])"
   ]
  }
 ],
 "metadata": {
  "kernelspec": {
   "display_name": "graProj",
   "language": "python",
   "name": "python3"
  },
  "language_info": {
   "codemirror_mode": {
    "name": "ipython",
    "version": 3
   },
   "file_extension": ".py",
   "mimetype": "text/x-python",
   "name": "python",
   "nbconvert_exporter": "python",
   "pygments_lexer": "ipython3",
   "version": "3.12.1"
  }
 },
 "nbformat": 4,
 "nbformat_minor": 2
}
