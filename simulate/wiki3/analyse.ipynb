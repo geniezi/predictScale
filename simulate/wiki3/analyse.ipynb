{
 "cells": [
  {
   "cell_type": "code",
   "execution_count": 1,
   "metadata": {},
   "outputs": [],
   "source": [
    "import numpy as np\n",
    "import pandas as pd\n",
    "import os\n",
    "\n",
    "pd.set_option('display.max_colwidth', 1000)\n",
    "pd.set_option('display.max_columns', 100)\n",
    "pd.set_option('display.max_rows', 140)\n",
    "df=pd.read_csv('scale.csv')\n"
   ]
  },
  {
   "cell_type": "code",
   "execution_count": 2,
   "metadata": {},
   "outputs": [
    {
     "name": "stdout",
     "output_type": "stream",
     "text": [
      "                    stragety  slo_requests   slo_time\n",
      "0             over_provision      0.000000   0.000000\n",
      "1             half_provision      1.342783   2.460724\n",
      "2            provision_95ile      1.989245   3.698770\n",
      "3            provision_99ile      0.083821   0.751366\n",
      "4          average_provision      1.989245   3.698770\n",
      "5                   reactive     16.348586  16.296107\n",
      "6                        hpa      0.005163   0.080260\n",
      "7  my_strategy_without_burst      0.020358   0.614754\n",
      "8  my_strategy_with_duration      0.018232   0.546448\n"
     ]
    }
   ],
   "source": [
    "print(df[['stragety','slo_requests', 'slo_time']])"
   ]
  },
  {
   "cell_type": "code",
   "execution_count": 3,
   "metadata": {},
   "outputs": [
    {
     "name": "stdout",
     "output_type": "stream",
     "text": [
      "                    stragety  scale_time        cost\n",
      "0             over_provision           0  125.276237\n",
      "1             half_provision           0   68.332493\n",
      "2            provision_95ile           0   56.943744\n",
      "3            provision_99ile           0  102.498739\n",
      "4          average_provision           0   56.943744\n",
      "5                   reactive       19082   50.522014\n",
      "6                        hpa          94   60.442634\n",
      "7  my_strategy_without_burst        1800   52.749394\n",
      "8  my_strategy_with_duration        1487   52.898171\n"
     ]
    }
   ],
   "source": [
    "print(df[['stragety','scale_time', 'cost']])"
   ]
  }
 ],
 "metadata": {
  "kernelspec": {
   "display_name": "graProj",
   "language": "python",
   "name": "python3"
  },
  "language_info": {
   "codemirror_mode": {
    "name": "ipython",
    "version": 3
   },
   "file_extension": ".py",
   "mimetype": "text/x-python",
   "name": "python",
   "nbconvert_exporter": "python",
   "pygments_lexer": "ipython3",
   "version": "3.9.19"
  }
 },
 "nbformat": 4,
 "nbformat_minor": 2
}
